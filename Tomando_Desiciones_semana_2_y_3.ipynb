{
  "nbformat": 4,
  "nbformat_minor": 0,
  "metadata": {
    "colab": {
      "provenance": [],
      "authorship_tag": "ABX9TyMyXZGxSLdR2jTjoHxJqAwH",
      "include_colab_link": true
    },
    "kernelspec": {
      "name": "python3",
      "display_name": "Python 3"
    },
    "language_info": {
      "name": "python"
    }
  },
  "cells": [
    {
      "cell_type": "markdown",
      "metadata": {
        "id": "view-in-github",
        "colab_type": "text"
      },
      "source": [
        "<a href=\"https://colab.research.google.com/github/eviri0204-web/Prog_Agro_2025_2/blob/main/Tomando_Desiciones_semana_2_y_3.ipynb\" target=\"_parent\"><img src=\"https://colab.research.google.com/assets/colab-badge.svg\" alt=\"Open In Colab\"/></a>"
      ]
    },
    {
      "cell_type": "code",
      "execution_count": null,
      "metadata": {
        "id": "LOF4s9eUvw8s"
      },
      "outputs": [],
      "source": []
    },
    {
      "cell_type": "markdown",
      "source": [
        "#  Situación de Interés en Ingeniería Agrícola fi:\n",
        "\n",
        "1. Se está diseñando el software para un sistema de\n",
        "riego “inteligente”.\n",
        "2. El programa debe leer el nivel de humedad actual del suelo (un valor de 0 a 100) y decidir qué acción tomar:\n",
        "> no hacer nada,\n",
        "> aplicar un riego ligero o\n",
        "> aplicar un riego profundo, según umbrales predefinidos.\n",
        "\n"
      ],
      "metadata": {
        "id": "BZzC9dS5xSqZ"
      }
    },
    {
      "cell_type": "code",
      "source": [
        "# Caso de Ingeniería Agrícola: Lógica de Riego Inteligente (if/elif/else)\n",
        "# Definir los umbrales de humedad\n",
        "# (ej. por debajo de 30% es seco, entre 30% y 70% es óptimo, por encima de 70% es saturado).\n",
        "\n",
        "# Pedir al usuario el nivel de humedad actual.\n",
        "humedad_actual = float(input(\"Ingrese el nivel de humedad actual (porcentaje): \"))\n",
        "if humedad_actual < 30:\n",
        "    print(\"El suelo está seco. Es necesario aplicar un riego.\")\n",
        "elif 30 <= humedad_actual <= 70:\n",
        "    print(\"El suelo está óptimo. No es necesario aplicar un riego.\")\n",
        "else:\n",
        "    print(\"El suelo está saturado. Es necesario aplicar drenaje.\")"
      ],
      "metadata": {
        "colab": {
          "base_uri": "https://localhost:8080/"
        },
        "id": "40uaU8_aycLg",
        "outputId": "e11ff372-9c22-40bf-b548-2a8999a89ab5"
      },
      "execution_count": 3,
      "outputs": [
        {
          "output_type": "stream",
          "name": "stdout",
          "text": [
            "Ingrese el nivel de humedad actual (porcentaje): 100\n",
            "El suelo está saturado. Es necesario aplicar drenaje.\n"
          ]
        }
      ]
    },
    {
      "cell_type": "markdown",
      "source": [
        "# Situación de Interés en **Ingeniería Agroindustrial**\n",
        "\n",
        "1. En una línea de empaque de frutas, un sensor mide el peso de cada fruta.\n",
        "2.  Se necesita un programa que analice una lista de pesos de un lote y cuente:\n",
        "> cuántas frutas cumplen con el estándar de “Exportación” (ej. > 250g),\n",
        "> cuántas son de “Mercado Nacional” (entre 150g y 250g) y\n",
        "> cuántas se consideran “Rechazo” (< 150g)."
      ],
      "metadata": {
        "id": "bqOuDQiH5AKj"
      }
    },
    {
      "cell_type": "code",
      "source": [
        "# : Clasificación de Lote (for loop)\n",
        "# Definir una lista con los pesos de las frutas del lote (para simular los datos del sensor).\n",
        "pesos = [100, 95, 150, 250, 200, 300, 280, 30, 300, 123, 111, 213, 400, 350, 456]\n",
        "\n",
        "# Inicializar tres contadores en cero: exportacion, nacional y rechazo.\n",
        "exportacion = 0\n",
        "nacional = 0\n",
        "rechazo = 0\n",
        "\n",
        "# Recorrer la lista de pesos y clasificar cada fruta.\n",
        "for peso in pesos:\n",
        "    if peso > 250:\n",
        "        exportacion += 1\n",
        "    elif 150 <= peso <= 250:\n",
        "        nacional += 1\n",
        "    else:\n",
        "        rechazo += 1\n",
        "\n",
        "#  Después de que el bucle termine, imprimir los totales de cada categoría.\n",
        "print(\"Frutas con peso mayor a 250g: \", exportacion)\n",
        "print(\"Frutas con peso entre 150g y 250g: \", nacional)\n",
        "print(\"Frutas con peso menor a 150g: \", rechazo)\n",
        "\n"
      ],
      "metadata": {
        "colab": {
          "base_uri": "https://localhost:8080/"
        },
        "id": "tKvtiaj76ZxS",
        "outputId": "b3ef967a-e33c-49ef-8bf9-a51e8c491c7a"
      },
      "execution_count": 4,
      "outputs": [
        {
          "output_type": "stream",
          "name": "stdout",
          "text": [
            "Frutas con peso mayor a 250g:  6\n",
            "Frutas con peso entre 150g y 250g:  4\n",
            "Frutas con peso menor a 150g:  5\n"
          ]
        }
      ]
    }
  ]
}