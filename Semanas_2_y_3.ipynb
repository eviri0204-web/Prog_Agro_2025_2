{
  "nbformat": 4,
  "nbformat_minor": 0,
  "metadata": {
    "colab": {
      "provenance": [],
      "authorship_tag": "ABX9TyOHJdie7wZXTvmRlUSKB+pz",
      "include_colab_link": true
    },
    "kernelspec": {
      "name": "python3",
      "display_name": "Python 3"
    },
    "language_info": {
      "name": "python"
    }
  },
  "cells": [
    {
      "cell_type": "markdown",
      "metadata": {
        "id": "view-in-github",
        "colab_type": "text"
      },
      "source": [
        "<a href=\"https://colab.research.google.com/github/eviri0204-web/Prog_Agro_2025_2/blob/main/Semanas_2_y_3.ipynb\" target=\"_parent\"><img src=\"https://colab.research.google.com/assets/colab-badge.svg\" alt=\"Open In Colab\"/></a>"
      ]
    },
    {
      "cell_type": "code",
      "execution_count": null,
      "metadata": {
        "id": "oH8G4iBzsFW_"
      },
      "outputs": [],
      "source": []
    },
    {
      "cell_type": "markdown",
      "source": [
        "# Situación 1: Clasificador de pH del Suelo El pH del\n",
        "\n",
        "es un factor crítico para la absorción de\n",
        "nutrientes por parte de las plantas. Desarrollarás un programa que recibe un valor de pH e informa al\n",
        "agricultor si el suelo es ácido, neutro o alcalino, ofreciendo una recomendación general.\n"
      ],
      "metadata": {
        "id": "Gx_mZaGxsYnc"
      }
    },
    {
      "cell_type": "code",
      "source": [
        "# Explicar al usuario que el programa clasifica el pH del suelo.\n",
        "print(\"Este programa clasifica el pH del suelo.\")\n",
        "\n",
        "# Pedir al usuario que ingrese el valor de pH medido (puede ser decimal).\n",
        "ph = float(input(\"Ingrese el valor de pH medido: \"))\n",
        "\n",
        "# Utilizar una estructura 'if' para la primera condición: si el pH es menor que 6.5.\n",
        "if ph < 7:\n",
        "  print(\"El suelo es ácido.\")\n",
        "  # Dentro del 'if', mostrar un mensaje indicando que el suelo es \"Ácido\" y recomendar el uso de cal agrícola.\n",
        "  print(\"Recomendamos el uso de cal relayed.\")\n",
        "elif ph == 7:\n",
        "  print(\"El suelo es neutro.\")\n",
        "elif ph > 7:\n",
        "  print(\"El suelo es alcalino.\")\n",
        "  print(\"Recomendamos el el uso de sulfato..\")\n",
        "\n"
      ],
      "metadata": {
        "colab": {
          "base_uri": "https://localhost:8080/"
        },
        "id": "0ly_fJ7Gsji3",
        "outputId": "12061776-091f-43d4-8889-17bb3bae5891"
      },
      "execution_count": 3,
      "outputs": [
        {
          "output_type": "stream",
          "name": "stdout",
          "text": [
            "Este programa clasifica el pH del suelo.\n",
            "Ingrese el valor de pH medido: 8\n",
            "El suelo es alcalino.\n",
            "Recomendamos el el uso de sulfato..\n"
          ]
        }
      ]
    },
    {
      "cell_type": "code",
      "source": [],
      "metadata": {
        "id": "822bPwckxOZC"
      },
      "execution_count": 2,
      "outputs": []
    },
    {
      "cell_type": "markdown",
      "metadata": {
        "id": "98b83762"
      },
      "source": [
        "Aquí está la explicación línea por línea del código para clasificar el pH del suelo:"
      ]
    },
    {
      "cell_type": "code",
      "metadata": {
        "colab": {
          "base_uri": "https://localhost:8080/"
        },
        "id": "40021325",
        "outputId": "3a4733bd-d63b-45bf-93c8-da69535c9b01"
      },
      "source": [
        "# Pedir al usuario que ingrese el valor de pH medido (puede ser decimal).\n",
        "ph = float(input(\"Ingrese el valor de pH medido: \"))"
      ],
      "execution_count": 4,
      "outputs": [
        {
          "output_type": "stream",
          "name": "stderr",
          "text": [
            "\n",
            "KeyboardInterrupt\n",
            "\n"
          ]
        }
      ]
    },
    {
      "cell_type": "code",
      "metadata": {
        "id": "114380c2"
      },
      "source": [
        "# Utilizar una estructura 'if' para la primera condición: si el pH es menor que 6.5.\n",
        "if ph < 7:\n",
        "  print(\"El suelo es ácido.\")\n",
        "  # Dentro del 'if', mostrar un mensaje indicando que el suelo es \"Ácido\" y recomendar el uso de cal agrícola.\n",
        "  print(\"Recomendamos el uso de cal relayed.\")"
      ],
      "execution_count": null,
      "outputs": []
    },
    {
      "cell_type": "code",
      "metadata": {
        "id": "e97b5556"
      },
      "source": [
        "elif ph == 7:\n",
        "  print(\"El suelo es neutro.\")"
      ],
      "execution_count": null,
      "outputs": []
    },
    {
      "cell_type": "code",
      "metadata": {
        "id": "16d4a42d"
      },
      "source": [
        "elif ph > 7:\n",
        "  print(\"El suelo es alcalino.\")\n",
        "  print(\"Recomendamos el el uso de sulfato..\")"
      ],
      "execution_count": null,
      "outputs": []
    },
    {
      "cell_type": "markdown",
      "source": [
        "# Situación 2: Simulación de Crecimiento de un\n",
        "\n",
        "Un agrónomo quiere simular el crecimiento\n",
        "en altura de una planta durante 5 semanas. La planta crece a una tasa diferente cada semana. El programa\n",
        "debe solicitar la tasa de crecimiento de cada semana y mostrar la altura total al final."
      ],
      "metadata": {
        "id": "atoNJudjyNs5"
      }
    },
    {
      "cell_type": "code",
      "source": [],
      "metadata": {
        "id": "U_-6BEkt0Vrd"
      },
      "execution_count": null,
      "outputs": []
    },
    {
      "cell_type": "code",
      "source": [
        "# Inicializar una variable para la altura total de la planta en cero.\n",
        "altura = 0\n",
        "# Inicializar una lista para almacenar los crecimientos semanales\n",
        "crecimientos_semanales = []\n",
        "\n",
        "# Mostrar un mensaje que indique que se simulará el crecimiento durante 5 semanas.\n",
        "print(\"Simulacion de crecimiento durante 5 semanas.\")\n",
        "\n",
        "# Crear un bucle 'for' que se repita 5 veces (una por cada semana).\n",
        "for semana in range(5):\n",
        "  \"\"\"\n",
        "  # Dentro del bucle, pedir al usuario el crecimiento de la planta para la semana\n",
        "actual (ej. \"Ingrese el crecimiento en cm para la semana 1:\").\n",
        "  \"\"\"\n",
        "  crecimiento = float(input(f\"Ingrese el crecimiento en cm para la semana {semana + 1}: \"))\n",
        "\n",
        "  # Actualizar la altura total de la planta sumándole el crecimiento de la semana actual.\n",
        "  altura += crecimiento\n",
        "  # Añadir el crecimiento de la semana actual a la lista\n",
        "  crecimientos_semanales.append(crecimiento)\n",
        "\n",
        "\n",
        "# Después de que el bucle termine, mostrar la altura total acumulada de la planta.\n",
        "print(f\"La altura total de la planta es de {altura} cm.\")\n",
        "\n",
        "# Mostrar la lista de crecimientos semanales\n",
        "print(f\"Los crecimientos semanales fueron: {crecimientos_semanales}\")"
      ],
      "metadata": {
        "colab": {
          "base_uri": "https://localhost:8080/"
        },
        "id": "LkcqZ9noyZTa",
        "outputId": "463301e5-761a-427f-c702-d88667bb5f9c"
      },
      "execution_count": 9,
      "outputs": [
        {
          "output_type": "stream",
          "name": "stdout",
          "text": [
            "Simulacion de crecimiento durante 5 semanas.\n",
            "Ingrese el crecimiento en cm para la semana 1: 11\n",
            "Ingrese el crecimiento en cm para la semana 2: 21\n",
            "Ingrese el crecimiento en cm para la semana 3: 31\n",
            "Ingrese el crecimiento en cm para la semana 4: 41\n",
            "Ingrese el crecimiento en cm para la semana 5: 51\n",
            "La altura total de la planta es de 155.0 cm.\n",
            "Los crecimientos semanales fueron: [11.0, 21.0, 31.0, 41.0, 51.0]\n"
          ]
        }
      ]
    },
    {
      "cell_type": "markdown",
      "source": [
        "# Situación 1: Control de Calidad de un Lote de Leche\n",
        "\n",
        "Una planta procesadora debe verificar si un\n",
        "lote de leche cumple con el estándar de acidez (medido en °Dornic). Si la acidez está entre 15 y 18 °D, el lote es aceptado. Si es mayor, se destina a queso; si es menor, se rechaza.\n",
        "\n",
        "Paso a Paso del Código (Guía para el Notebook)\n",
        "1. # Describir el propósito: Programa de control de calidad de leche por acidez.\n",
        "2. # Pedir al operario que ingrese el valor de acidez en grados Dornic.\n",
        "3. # Guardar el valor en una variable.\n",
        "4. # Escribir una condición 'if' que verifique si la acidez es mayor a 18.\n",
        "5. # Si se cumple, imprimir \"Lote destinado para producción de queso\".\n",
        "6. # Usar 'elif' para verificar si la acidez es menor a 15.\n",
        "7. # Si se cumple, imprimir \"Lote RECHAZADO por baja acidez\".\n",
        "8. # Usar 'else' para capturar el caso en que la acidez está en el rango aceptable.\n",
        "9. # Si no se cumplen las condiciones anteriores, imprimir \"Lote ACEPTADO para\n",
        "pasteurización\".\n"
      ],
      "metadata": {
        "id": "1U9GjuoG6CKA"
      }
    },
    {
      "cell_type": "code",
      "source": [],
      "metadata": {
        "id": "vp4pvt_Y3R3j"
      },
      "execution_count": null,
      "outputs": []
    },
    {
      "cell_type": "code",
      "metadata": {
        "colab": {
          "base_uri": "https://localhost:8080/"
        },
        "id": "6f4474a7",
        "outputId": "cb5f76de-9f90-4804-b9ea-e8dfa8281542"
      },
      "source": [
        "# Describir el propósito: Programa de control de calidad de leche por acidez.\n",
        "print(\"Programa de control de calidad de leche por acidez.\")\n",
        "\n",
        "# Pedir al operario que ingrese el valor de acidez en grados Dornic.\n",
        "# Guardar el valor en una variable.\n",
        "acidez = float(input(\"Ingrese el valor de acidez en grados Dornic: \"))\n",
        "\n",
        "# Escribir una condición 'if' que verifique si la acidez es mayor a 18.\n",
        "if acidez > 18:\n",
        "  # Si se cumple, imprimir \"Lote destinado para producción de queso\".\n",
        "  print(\"Lote destinado para producción de queso\")\n",
        "# Usar 'elif' para verificar si la acidez es menor a 15.\n",
        "elif acidez < 15:\n",
        "  # Si se cumple, imprimir \"Lote RECHAZADO por baja acidez\".\n",
        "  print(\"Lote RECHAZADO por baja acidez\")\n",
        "# Usar 'else' para capturar el caso en que la acidez está en el rango aceptable.\n",
        "else:\n",
        "  # Si no se cumplen las condiciones anteriores, imprimir \"Lote ACEPTADO para pasteurización\".\n",
        "  print(\"Lote ACEPTADO para pasteurización\")"
      ],
      "execution_count": 12,
      "outputs": [
        {
          "output_type": "stream",
          "name": "stdout",
          "text": [
            "Programa de control de calidad de leche por acidez.\n",
            "Ingrese el valor de acidez en grados Dornic: 14\n",
            "Lote RECHAZADO por baja acidez\n"
          ]
        }
      ]
    },
    {
      "cell_type": "code",
      "source": [],
      "metadata": {
        "id": "pWVtGYst7rsU"
      },
      "execution_count": 11,
      "outputs": []
    }
  ]
}