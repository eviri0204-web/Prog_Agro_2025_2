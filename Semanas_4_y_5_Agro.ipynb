{
  "nbformat": 4,
  "nbformat_minor": 0,
  "metadata": {
    "colab": {
      "provenance": [],
      "authorship_tag": "ABX9TyMeFBt8J2LOL0u/s5nzOrAQ",
      "include_colab_link": true
    },
    "kernelspec": {
      "name": "python3",
      "display_name": "Python 3"
    },
    "language_info": {
      "name": "python"
    }
  },
  "cells": [
    {
      "cell_type": "markdown",
      "metadata": {
        "id": "view-in-github",
        "colab_type": "text"
      },
      "source": [
        "<a href=\"https://colab.research.google.com/github/eviri0204-web/Prog_Agro_2025_2/blob/main/Semanas_4_y_5_Agro.ipynb\" target=\"_parent\"><img src=\"https://colab.research.google.com/assets/colab-badge.svg\" alt=\"Open In Colab\"/></a>"
      ]
    },
    {
      "cell_type": "markdown",
      "metadata": {
        "id": "0f9a5245"
      },
      "source": [
        "## Listas, Tuplas y Diccionarios en Python\n",
        "\n",
        "Estos son tres tipos de colecciones de datos en Python, cada uno con sus propias características y usos.\n",
        "\n",
        "### Listas\n",
        "\n",
        "*   **Definición:** Son colecciones ordenadas y mutables de elementos. Pueden contener elementos de diferentes tipos de datos. Se definen con corchetes `[]`.\n",
        "*   **Ejemplo:** `mi_lista = [1, \"hola\", 3.14, True]`\n",
        "*   **Características:**\n",
        "    *   **Ordenadas:** Los elementos mantienen el orden en el que fueron insertados.\n",
        "    *   **Mutables:** Se pueden modificar (añadir, eliminar o cambiar elementos) después de su creación.\n",
        "    *   **Indexables:** Se puede acceder a los elementos usando su índice (posición).\n",
        "    *   **Permiten duplicados:** Pueden contener elementos repetidos.\n",
        "\n",
        "### Tuplas\n",
        "\n",
        "*   **Definición:** Son colecciones ordenadas e inmutables de elementos. Al igual que las listas, pueden contener elementos de diferentes tipos de datos. Se definen con paréntesis `()`.\n",
        "*   **Ejemplo:** `mi_tupla = (1, \"hola\", 3.14, True)`\n",
        "*   **Características:**\n",
        "    *   **Ordenadas:** Los elementos mantienen el orden en el que fueron insertados.\n",
        "    *   **Inmutables:** No se pueden modificar después de su creación. Esto las hace más seguras para datos que no deben cambiar y a menudo más rápidas que las listas.\n",
        "    *   **Indexables:** Se puede acceder a los elementos usando su índice (posición).\n",
        "    *   **Permiten duplicados:** Pueden contener elementos repetidos.\n",
        "\n",
        "### Diccionarios\n",
        "\n",
        "*   **Definición:** Son colecciones desordenadas de pares clave-valor. Cada clave debe ser única y se utiliza para acceder a su valor asociado. Se definen con llaves `{}` y los pares clave-valor se separan por dos puntos `:`.\n",
        "*   **Ejemplo:** `mi_diccionario = {\"nombre\": \"Juan\", \"edad\": 30, \"ciudad\": \"Madrid\"}`\n",
        "*   **Características:**\n",
        "    *   **Desordenados (en versiones antiguas de Python, ordenados en Python 3.7+):** El orden de los elementos no está garantizado (aunque en versiones recientes de Python, se mantiene el orden de inserción).\n",
        "    *   **Mutables:** Se pueden modificar (añadir, eliminar o cambiar pares clave-valor) después de su creación.\n",
        "    *   **Basados en claves:** Se accede a los elementos usando sus claves, no su índice numérico.\n",
        "    *   **Las claves deben ser únicas:** No puede haber dos claves iguales en un diccionario.\n",
        "    *   **Las claves deben ser inmutables:** Las claves suelen ser cadenas de texto, números o tuplas (siempre que los elementos de la tupla sean inmutables).\n",
        "\n",
        "### Similitudes\n",
        "\n",
        "*   Las listas y tuplas son colecciones ordenadas que permiten acceder a los elementos por índice.\n",
        "*   Las listas y tuplas permiten elementos duplicados.\n",
        "*   Las listas y diccionarios son mutables.\n",
        "*   Todos pueden contener elementos de diferentes tipos de datos.\n",
        "\n",
        "### Diferencias\n",
        "\n",
        "*   **Mutabilidad:** Las listas y diccionarios son mutables, mientras que las tuplas son inmutables.\n",
        "*   **Acceso a elementos:** Las listas y tuplas usan índices numéricos, mientras que los diccionarios usan claves.\n",
        "*   **Orden:** Las listas y tuplas están ordenadas, mientras que los diccionarios (en versiones antiguas) no lo están (aunque en versiones recientes mantienen el orden de inserción).\n",
        "*   **Estructura:** Las listas y tuplas almacenan elementos individuales, mientras que los diccionarios almacenan pares clave-valor."
      ]
    },
    {
      "cell_type": "markdown",
      "metadata": {
        "id": "931b9b7f"
      },
      "source": [
        "## Funciones en Python\n",
        "\n",
        "Una función en Python es un bloque de código organizado y reutilizable que realiza una tarea específica. Las funciones permiten modularizar el código, hacerlo más legible, fácil de mantener y depurar.\n",
        "\n",
        "### Uso de las funciones\n",
        "\n",
        "Las funciones se definen utilizando la palabra clave `def`, seguida del nombre de la función, paréntesis `()` para los parámetros (si los hay) y dos puntos `:`. El bloque de código dentro de la función debe estar indentado."
      ]
    },
    {
      "cell_type": "code",
      "metadata": {
        "id": "1c47c449"
      },
      "source": [
        "suma = mi_funcion(5, 3) # Llamada a la función\n",
        "print(suma) # Imprime 8"
      ],
      "execution_count": null,
      "outputs": []
    },
    {
      "cell_type": "markdown",
      "source": [
        "# Situación de Interés en Ingeniería Agrícola\n",
        "\n",
        "Un agrónomo consultor necesita una herramienta\n",
        "rápida para aconsejar a los agricultores sobre qué cultivos sembrar. Se requiere un programa que almacene información de varios cultivos (nombre, mes ideal de siembra, necesidad de agua) y que, al\n",
        "ingresar el nombre de un mes, recomiende qué cultivos son adecuados para sembrar en ese período.\n",
        "\n",
        "Caso de Ingeniería Agrícola: Planificador de Cultivos (Listas y Funciones) • Paso a Paso del Código:\n",
        "1. Crear una lista donde cada elemento sea un diccionario. Cada diccionario representará un\n",
        "cultivo y tendrá claves como nombre, mes_siembra y riego.\n",
        "2. Crear una función llamada recomendar_cultivos. Esta función recibirá dos parámetros: la\n",
        "lista completa de cultivos y el mes actual.\n",
        "3. Dentro de la función, usar un bucle for para recorrer la lista de cultivos.\n",
        "4. En cada iteración, usar un if para comprobar si el mes_siembra del cultivo coincide con el mes\n",
        "proporcionado.\n",
        "5. Si coinciden, añadir el nombre del cultivo a una nueva lista de recomendados.\n",
        "6. Al final, la función debe devolver la lista de cultivos recomendados.\n",
        "7. En el programa principal, pedir al usuario el mes y llamar a la función para obtener e imprimir\n",
        "las recomendaciones.\n"
      ],
      "metadata": {
        "id": "jN5U5BDt1epI"
      }
    },
    {
      "cell_type": "code",
      "source": [],
      "metadata": {
        "id": "3A1QdQy02yJY"
      },
      "execution_count": null,
      "outputs": []
    },
    {
      "cell_type": "code",
      "metadata": {
        "id": "34d417f6"
      },
      "source": [
        "# 1. Crear una lista donde cada elemento sea un diccionario para representar cultivos.\n",
        "cultivos = [\n",
        "    {\"nombre\": \"Maíz\", \"mes_siembra\": \"Abril\", \"riego\": \"Alto\"},\n",
        "    {\"nombre\": \"Trigo\", \"mes_siembra\": \"Octubre\", \"riego\": \"Medio\"},\n",
        "    {\"nombre\": \"Tomate\", \"mes_siembra\": \"Marzo\", \"riego\": \"Alto\"},\n",
        "    {\"nombre\": \"Lechuga\", \"mes_siembra\": \"Septiembre\", \"riego\": \"Medio\"},\n",
        "    {\"nombre\": \"Patata\", \"mes_siembra\": \"Febrero\", \"riego\": \"Alto\"},\n",
        "    {\"nombre\": \"Girasol\", \"mes_siembra\": \"Mayo\", \"riego\": \"Medio\"},\n",
        "]"
      ],
      "execution_count": 1,
      "outputs": []
    },
    {
      "cell_type": "code",
      "metadata": {
        "id": "b0de8c87"
      },
      "source": [
        "# 2. Crear una función llamada recomendar_cultivos.\n",
        "def recomendar_cultivos(lista_cultivos, mes_actual):\n",
        "    # 5. Si coinciden, añadir el nombre del cultivo a una nueva lista de recomendados.\n",
        "    cultivos_recomendados = []\n",
        "    # 3. Dentro de la función, usar un bucle for para recorrer la lista de cultivos.\n",
        "    for cultivo in lista_cultivos:\n",
        "        # 4. En cada iteración, usar un if para comprobar si el mes_siembra del cultivo coincide con el mes proporcionado.\n",
        "        if cultivo[\"mes_siembra\"].lower() == mes_actual.lower():\n",
        "            cultivos_recomendados.append(cultivo[\"nombre\"])\n",
        "    # 6. Al final, la función debe devolver la lista de cultivos recomendados.\n",
        "    return cultivos_recomendados"
      ],
      "execution_count": 2,
      "outputs": []
    },
    {
      "cell_type": "code",
      "metadata": {
        "colab": {
          "base_uri": "https://localhost:8080/"
        },
        "id": "1bc77c31",
        "outputId": "c3b3feeb-a6f0-48f7-9de1-3f7210c403ca"
      },
      "source": [
        "# 7. En el programa principal, pedir al usuario el mes y llamar a la función para obtener e imprimir las recomendaciones.\n",
        "mes_ingresado = input(\"Ingrese el nombre del mes actual para obtener recomendaciones de cultivo: \")\n",
        "\n",
        "recomendaciones = recomendar_cultivos(cultivos, mes_ingresado)\n",
        "\n",
        "if recomendaciones:\n",
        "    print(f\"\\nCultivos recomendados para sembrar en {mes_ingresado}:\")\n",
        "    for cultivo in recomendaciones:\n",
        "        print(f\"- {cultivo}\")\n",
        "else:\n",
        "    print(f\"\\nNo hay cultivos recomendados para sembrar en {mes_ingresado}.\")"
      ],
      "execution_count": 6,
      "outputs": [
        {
          "output_type": "stream",
          "name": "stdout",
          "text": [
            "Ingrese el nombre del mes actual para obtener recomendaciones de cultivo: Abril\n",
            "\n",
            "Cultivos recomendados para sembrar en Abril:\n",
            "- Maíz\n"
          ]
        }
      ]
    },
    {
      "cell_type": "code",
      "source": [],
      "metadata": {
        "id": "W0DpMSug3-Pe"
      },
      "execution_count": 4,
      "outputs": []
    },
    {
      "cell_type": "markdown",
      "metadata": {
        "id": "53963c1a"
      },
      "source": [
        "## Explicación Detallada del Código Planificador de Cultivos\n",
        "\n",
        "Este código Python se divide en tres partes principales para implementar un planificador de cultivos simple basado en el mes de siembra.\n",
        "\n",
        "1.  **Definición de los Datos de los Cultivos:**"
      ]
    },
    {
      "cell_type": "code",
      "metadata": {
        "id": "9f20e714"
      },
      "source": [
        "    def recomendar_cultivos(lista_cultivos, mes_actual):\n",
        "        cultivos_recomendados = []\n",
        "        for cultivo in lista_cultivos:\n",
        "            if cultivo[\"mes_siembra\"].lower() == mes_actual.lower():\n",
        "                cultivos_recomendados.append(cultivo[\"nombre\"])\n",
        "        return cultivos_recomendados"
      ],
      "execution_count": null,
      "outputs": []
    },
    {
      "cell_type": "code",
      "metadata": {
        "id": "bd49d2d8"
      },
      "source": [
        "    mes_ingresado = input(\"Ingrese el nombre del mes actual para obtener recomendaciones de cultivo: \")\n",
        "\n",
        "    recomendaciones = recomendar_cultivos(cultivos, mes_ingresado)\n",
        "\n",
        "    if recomendaciones:\n",
        "        print(f\"\\nCultivos recomendados para sembrar en {mes_ingresado}:\")\n",
        "        for cultivo in recomendaciones:\n",
        "            print(f\"- {cultivo}\")\n",
        "    else:\n",
        "        print(f\"\\nNo hay cultivos recomendados para sembrar en {mes_ingresado}.\")"
      ],
      "execution_count": null,
      "outputs": []
    },
    {
      "cell_type": "markdown",
      "metadata": {
        "id": "533ce223"
      },
      "source": [
        "## Explicación del Código Planificador de Cultivos (Listas y Funciones)\n",
        "\n",
        "Este código Python implementa un sencillo planificador de cultivos basado en el mes de siembra, utilizando listas de diccionarios y una función.\n",
        "\n",
        "1.  **Creación de la lista de cultivos:**\n",
        "    *   Se define una lista llamada `cultivos`.\n",
        "    *   Cada elemento de esta lista es un diccionario que representa un cultivo.\n",
        "    *   Cada diccionario tiene tres claves: `\"nombre\"` (el nombre del cultivo), `\"mes_siembra\"` (el mes ideal para sembrarlo) y `\"riego\"` (la necesidad de agua del cultivo)."
      ]
    },
    {
      "cell_type": "code",
      "metadata": {
        "id": "f5c6bf34"
      },
      "source": [
        "    def recomendar_cultivos(lista_cultivos, mes_actual):\n",
        "        cultivos_recomendados = []\n",
        "        for cultivo in lista_cultivos:\n",
        "            if cultivo[\"mes_siembra\"].lower() == mes_actual.lower():\n",
        "                cultivos_recomendados.append(cultivo[\"nombre\"])\n",
        "        return cultivos_recomendados"
      ],
      "execution_count": null,
      "outputs": []
    },
    {
      "cell_type": "code",
      "metadata": {
        "id": "75c7f493"
      },
      "source": [
        "    mes_ingresado = input(\"Ingrese el nombre del mes actual para obtener recomendaciones de cultivo: \")\n",
        "\n",
        "    recomendaciones = recomendar_cultivos(cultivos, mes_ingresado)\n",
        "\n",
        "    if recomendaciones:\n",
        "        print(f\"\\nCultivos recomendados para sembrar en {mes_ingresado}:\")\n",
        "        for cultivo in recomendaciones:\n",
        "            print(f\"- {cultivo}\")\n",
        "    else:\n",
        "        print(f\"\\nNo hay cultivos recomendados para sembrar en {mes_ingresado}.\")"
      ],
      "execution_count": null,
      "outputs": []
    },
    {
      "cell_type": "markdown",
      "source": [
        "# Situación 2: Función para Validar Parámetros de Calidad\n",
        "\n",
        "Una planta recibe lotes de fruta y debe\n",
        "validar si cumplen con los parámetros de pH y grados Brix para ser aceptados. Crearás una función que\n",
        "centralice esta lógica de validación.\n",
        "• Paso a Paso del Código (Guía para el Notebook)\n",
        "1. # Definir una función 'validar_lote' que tome dos parámetros: 'ph' y 'brix'.\n",
        "2. # Dentro de la función, usar una estructura 'if' para verificar si el pH está\n",
        "entre 3.5 y 4.5 Y si los grados Brix son mayores a 12.\n",
        "3. # Si ambas condiciones se cumplen, la función debe devolver el valor booleano\n",
        "True.\n",
        "4. # De lo contrario (else), la función debe devolver el valor booleano False.\n",
        "5. # En el programa principal, pedir al usuario el pH y los grados Brix del lote\n",
        "actual.\n",
        "6. # Llamar a la función 'validar_lote' con los datos ingresados y guardar el\n",
        "resultado (True/False) en una variable.\n",
        "7. # Usar un 'if' en el programa principal para comprobar el valor de esa variable.\n",
        "8. # Si la variable es True, imprimir \"Lote APROBADO\". Si es False, imprimir \"Lote\n",
        "RECHAZADO\".\n"
      ],
      "metadata": {
        "id": "dWDwNo9Y55Wk"
      }
    },
    {
      "cell_type": "code",
      "source": [],
      "metadata": {
        "id": "bQMFaPmE7SnL"
      },
      "execution_count": null,
      "outputs": []
    },
    {
      "cell_type": "code",
      "metadata": {
        "id": "ed59d737"
      },
      "source": [
        "# 1. Definir una función 'validar_lote' que tome dos parámetros: 'ph' y 'brix'.\n",
        "def validar_lote(ph, brix):\n",
        "    # 2. Dentro de la función, usar una estructura 'if' para verificar si el pH está\n",
        "    #    entre 3.5 y 4.5 Y si los grados Brix son mayores a 12.\n",
        "    if 3.5 <= ph <= 4.5 and brix > 12:\n",
        "        # 3. Si ambas condiciones se cumplen, la función debe devolver el valor booleano True.\n",
        "        return True\n",
        "    else:\n",
        "        # 4. De lo contrario (else), la función debe devolver el valor booleano False.\n",
        "        return False"
      ],
      "execution_count": 7,
      "outputs": []
    },
    {
      "cell_type": "code",
      "metadata": {
        "colab": {
          "base_uri": "https://localhost:8080/"
        },
        "id": "4085fa9c",
        "outputId": "8b520915-9c5a-403c-8381-7691ac255cb8"
      },
      "source": [
        "# 5. En el programa principal, pedir al usuario el pH y los grados Brix del lote actual.\n",
        "try:\n",
        "    ph_ingresado = float(input(\"Ingrese el valor de pH del lote: \"))\n",
        "    brix_ingresados = float(input(\"Ingrese los grados Brix del lote: \"))\n",
        "\n",
        "    # 6. Llamar a la función 'validar_lote' con los datos ingresados y guardar el\n",
        "    #    resultado (True/False) en una variable.\n",
        "    lote_aprobado = validar_lote(ph_ingresado, brix_ingresados)\n",
        "\n",
        "    # 7. Usar un 'if' en el programa principal para comprobar el valor de esa variable.\n",
        "    # 8. Si la variable es True, imprimir \"Lote APROBADO\". Si es False, imprimir \"Lote RECHAZADO\".\n",
        "    if lote_aprobado:\n",
        "        print(\"\\nLote APROBADO\")\n",
        "    else:\n",
        "        print(\"\\nLote RECHAZADO\")\n",
        "\n",
        "except ValueError:\n",
        "    print(\"\\nEntrada inválida. Por favor ingrese valores numéricos para pH y Brix.\")"
      ],
      "execution_count": 10,
      "outputs": [
        {
          "output_type": "stream",
          "name": "stdout",
          "text": [
            "Ingrese el valor de pH del lote: 4\n",
            "Ingrese los grados Brix del lote: 13\n",
            "\n",
            "Lote APROBADO\n"
          ]
        }
      ]
    },
    {
      "cell_type": "markdown",
      "metadata": {
        "id": "c6d67f6b"
      },
      "source": [
        "## Explicación Detallada del Código de la Situación 2: Función para Validar Parámetros de Calidad\n",
        "\n",
        "Este código Python implementa una función para validar si un lote de fruta cumple con ciertos parámetros de pH y grados Brix.\n",
        "\n",
        "1.  **Definición de la función `validar_lote`:**"
      ]
    },
    {
      "cell_type": "markdown",
      "metadata": {
        "id": "7886014a"
      },
      "source": [
        "## `try` y `except` en Python\n",
        "\n",
        "En Python, los bloques `try` y `except` se utilizan para manejar errores y excepciones que pueden ocurrir durante la ejecución de un programa. Permiten que el programa continúe ejecutándose incluso si ocurre un error en una parte específica del código, en lugar de que el programa se detenga abruptamente.\n",
        "\n",
        "*   **`try`**: El código dentro del bloque `try` es el que se intenta ejecutar. Si no ocurre ningún error durante la ejecución de este bloque, el bloque `except` se ignora.\n",
        "*   **`except`**: Si ocurre un error (una excepción) dentro del bloque `try`, la ejecución del bloque `try` se detiene y el código dentro del bloque `except` se ejecuta. Puedes especificar qué tipo de excepción quieres capturar (por ejemplo, `ValueError`, `TypeError`, etc.). Si no especificas un tipo de excepción, se capturarán todas las excepciones.\n",
        "\n",
        "**¿Por qué son importantes?**\n",
        "\n",
        "*   **Robustez:** Hacen que tu código sea más robusto y menos propenso a fallar debido a errores inesperados.\n",
        "*   **Manejo de errores:** Te permiten controlar cómo responde tu programa a diferentes tipos de errores.\n",
        "*   **Experiencia del usuario:** Puedes proporcionar mensajes de error más amigables al usuario en lugar de rastreos de errores crudos.\n",
        "\n",
        "**Ejemplo básico:**"
      ]
    },
    {
      "cell_type": "code",
      "metadata": {
        "id": "a829252c"
      },
      "source": [
        "    # 5. En el programa principal, pedir al usuario el pH y los grados Brix del lote actual.\n",
        "    try:\n",
        "        ph_ingresado = float(input(\"Ingrese el valor de pH del lote: \"))\n",
        "        brix_ingresados = float(input(\"Ingrese los grados Brix del lote: \"))\n",
        "\n",
        "        # 6. Llamar a la función 'validar_lote' con los datos ingresados y guardar el\n",
        "        #    resultado (True/False) en una variable.\n",
        "        lote_aprobado = validar_lote(ph_ingresado, brix_ingresados)\n",
        "\n",
        "        # 7. Usar un 'if' en el programa principal para comprobar el valor de esa variable.\n",
        "        # 8. Si la variable es True, imprimir \"Lote APROBADO\". Si es False, imprimir \"Lote RECHAZADO\".\n",
        "        if lote_aprobado:\n",
        "            print(\"\\nLote APROBADO\")\n",
        "        else:\n",
        "            print(\"\\nLote RECHAZADO\")\n",
        "\n",
        "    except ValueError:\n",
        "        print(\"\\nEntrada inválida. Por favor ingrese valores numéricos para pH y Brix.\")"
      ],
      "execution_count": null,
      "outputs": []
    },
    {
      "cell_type": "code",
      "source": [
        "ng"
      ],
      "metadata": {
        "id": "lHJdXUU--Zyw"
      },
      "execution_count": null,
      "outputs": []
    },
    {
      "cell_type": "markdown",
      "source": [
        "# Ingeniería Agroindustrial Situación 1: Ficha Técnica de un Producto\n",
        "\n",
        "Se necesita un programa para almacenar y mostrar la\n",
        "información clave de un producto alimenticio, como su nombre, lote, fecha de vencimiento y porcentaje de\n",
        "humedad. Un diccionario es perfecto para esto, ya que cada dato tiene una etiqueta clara.\n",
        "• Paso a Paso del Código (Guía para el Notebook)\n",
        "1. # Crear un diccionario vacío llamado 'ficha_producto'.\n",
        "2. # Pedir al usuario el nombre del producto y guardarlo en el diccionario con la\n",
        "clave 'nombre'.\n",
        "3. # Pedir el número de lote y guardarlo con la clave 'lote'.\n",
        "4. # Pedir la fecha de vencimiento y guardarla con la clave 'vencimiento'.\n",
        "5. # Pedir el porcentaje de humedad y guardarlo con la clave 'humedad'.\n",
        "6. # Mostrar un encabezado que diga \"--- Ficha Técnica del Producto ---\".\n",
        "7. # Imprimir cada uno de los valores del diccionario accediendo a ellos a través\n",
        "de sus claves (ej. ficha_producto['nombre'])"
      ],
      "metadata": {
        "id": "nxHiVcea9RqK"
      }
    },
    {
      "cell_type": "code",
      "metadata": {
        "colab": {
          "base_uri": "https://localhost:8080/"
        },
        "id": "6abadc3e",
        "outputId": "2bf89955-9d1a-40af-d4cf-5858f5370fff"
      },
      "source": [
        "# Reescribe el codigo de la Situación 1: Ficha Técnica de un Producto de tal manera que solicite indefinidamente los datos y finalice cuando el digitador lo desee\n",
        "\n",
        "while True:\n",
        "    print(\"\\n--- Ingrese los datos del Producto ---\")\n",
        "    ficha_producto = {}\n",
        "\n",
        "    # 2. Pedir al usuario el nombre del producto y guardarlo en el diccionario con la clave 'nombre'.\n",
        "    ficha_producto['nombre'] = input(\"Ingrese el nombre del producto (o escriba 'salir' para finalizar): \")\n",
        "\n",
        "    # Condición para salir del bucle\n",
        "    if ficha_producto['nombre'].lower() == 'salir':\n",
        "        break\n",
        "\n",
        "    # 3. Pedir el número de lote y guardarlo con la clave 'lote'.\n",
        "    ficha_producto['lote'] = input(\"Ingrese el número de lote: \")\n",
        "\n",
        "    # 4. Pedir la fecha de vencimiento y guardarla con la clave 'vencimiento'.\n",
        "    ficha_producto['vencimiento'] = input(\"Ingrese la fecha de vencimiento: \")\n",
        "\n",
        "    # 5. Pedir el porcentaje de humedad y guardarlo con la clave 'humedad'.\n",
        "    ficha_producto['humedad'] = input(\"Ingrese el porcentaje de humedad: \")\n",
        "\n",
        "    # 6. Mostrar un encabezado que diga \"--- Ficha Técnica del Producto ---\".\n",
        "    print(\"\\n--- Ficha Técnica del Producto ---\")\n",
        "\n",
        "    # 7. Imprimir cada uno de los valores del diccionario accediendo a ellos a través de sus claves.\n",
        "    print(f\"Nombre: {ficha_producto['nombre']}\")\n",
        "    print(f\"Lote: {ficha_producto['lote']}\")\n",
        "    print(f\"Fecha de vencimiento: {ficha_producto['vencimiento']}\")\n",
        "    print(f\"Porcentaje de humedad: {ficha_producto['humedad']}\")\n",
        "\n",
        "    # Opcional: podrías preguntar si desea ingresar otro producto aquí si no usas 'salir' en el nombre\n",
        "    # continuar = input(\"\\n¿Desea ingresar otro producto? (sí/no): \").lower()\n",
        "    # if continuar != 'sí' and continuar != 'si':\n",
        "    #     break\n",
        "\n",
        "print(\"\\nFin del programa.\")"
      ],
      "execution_count": 14,
      "outputs": [
        {
          "output_type": "stream",
          "name": "stdout",
          "text": [
            "\n",
            "--- Ingrese los datos del Producto ---\n",
            "Ingrese el nombre del producto (o escriba 'salir' para finalizar): mango\n",
            "Ingrese el número de lote: 123\n",
            "Ingrese la fecha de vencimiento: 12/12/2027\n",
            "Ingrese el porcentaje de humedad: 78\n",
            "\n",
            "--- Ficha Técnica del Producto ---\n",
            "Nombre: mango\n",
            "Lote: 123\n",
            "Fecha de vencimiento: 12/12/2027\n",
            "Porcentaje de humedad: 78\n",
            "\n",
            "--- Ingrese los datos del Producto ---\n",
            "Ingrese el nombre del producto (o escriba 'salir' para finalizar): yuca\n",
            "Ingrese el número de lote: 234\n",
            "Ingrese la fecha de vencimiento: 12/12/2028\n",
            "Ingrese el porcentaje de humedad: 89\n",
            "\n",
            "--- Ficha Técnica del Producto ---\n",
            "Nombre: yuca\n",
            "Lote: 234\n",
            "Fecha de vencimiento: 12/12/2028\n",
            "Porcentaje de humedad: 89\n",
            "\n",
            "--- Ingrese los datos del Producto ---\n",
            "Ingrese el nombre del producto (o escriba 'salir' para finalizar): salir\n",
            "\n",
            "Fin del programa.\n"
          ]
        }
      ]
    }
  ]
}