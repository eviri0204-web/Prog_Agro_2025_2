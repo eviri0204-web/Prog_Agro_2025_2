{
  "nbformat": 4,
  "nbformat_minor": 0,
  "metadata": {
    "colab": {
      "provenance": [],
      "authorship_tag": "ABX9TyPwVc5O021ui+czhurDkxxx",
      "include_colab_link": true
    },
    "kernelspec": {
      "name": "python3",
      "display_name": "Python 3"
    },
    "language_info": {
      "name": "python"
    }
  },
  "cells": [
    {
      "cell_type": "markdown",
      "metadata": {
        "id": "view-in-github",
        "colab_type": "text"
      },
      "source": [
        "<a href=\"https://colab.research.google.com/github/eviri0204-web/Prog_Agro_2025_2/blob/main/Semanas_4_y_5_Agro.ipynb\" target=\"_parent\"><img src=\"https://colab.research.google.com/assets/colab-badge.svg\" alt=\"Open In Colab\"/></a>"
      ]
    },
    {
      "cell_type": "markdown",
      "metadata": {
        "id": "0f9a5245"
      },
      "source": [
        "## Listas, Tuplas y Diccionarios en Python\n",
        "\n",
        "Estos son tres tipos de colecciones de datos en Python, cada uno con sus propias características y usos.\n",
        "\n",
        "### Listas\n",
        "\n",
        "*   **Definición:** Son colecciones ordenadas y mutables de elementos. Pueden contener elementos de diferentes tipos de datos. Se definen con corchetes `[]`.\n",
        "*   **Ejemplo:** `mi_lista = [1, \"hola\", 3.14, True]`\n",
        "*   **Características:**\n",
        "    *   **Ordenadas:** Los elementos mantienen el orden en el que fueron insertados.\n",
        "    *   **Mutables:** Se pueden modificar (añadir, eliminar o cambiar elementos) después de su creación.\n",
        "    *   **Indexables:** Se puede acceder a los elementos usando su índice (posición).\n",
        "    *   **Permiten duplicados:** Pueden contener elementos repetidos.\n",
        "\n",
        "### Tuplas\n",
        "\n",
        "*   **Definición:** Son colecciones ordenadas e inmutables de elementos. Al igual que las listas, pueden contener elementos de diferentes tipos de datos. Se definen con paréntesis `()`.\n",
        "*   **Ejemplo:** `mi_tupla = (1, \"hola\", 3.14, True)`\n",
        "*   **Características:**\n",
        "    *   **Ordenadas:** Los elementos mantienen el orden en el que fueron insertados.\n",
        "    *   **Inmutables:** No se pueden modificar después de su creación. Esto las hace más seguras para datos que no deben cambiar y a menudo más rápidas que las listas.\n",
        "    *   **Indexables:** Se puede acceder a los elementos usando su índice (posición).\n",
        "    *   **Permiten duplicados:** Pueden contener elementos repetidos.\n",
        "\n",
        "### Diccionarios\n",
        "\n",
        "*   **Definición:** Son colecciones desordenadas de pares clave-valor. Cada clave debe ser única y se utiliza para acceder a su valor asociado. Se definen con llaves `{}` y los pares clave-valor se separan por dos puntos `:`.\n",
        "*   **Ejemplo:** `mi_diccionario = {\"nombre\": \"Juan\", \"edad\": 30, \"ciudad\": \"Madrid\"}`\n",
        "*   **Características:**\n",
        "    *   **Desordenados (en versiones antiguas de Python, ordenados en Python 3.7+):** El orden de los elementos no está garantizado (aunque en versiones recientes de Python, se mantiene el orden de inserción).\n",
        "    *   **Mutables:** Se pueden modificar (añadir, eliminar o cambiar pares clave-valor) después de su creación.\n",
        "    *   **Basados en claves:** Se accede a los elementos usando sus claves, no su índice numérico.\n",
        "    *   **Las claves deben ser únicas:** No puede haber dos claves iguales en un diccionario.\n",
        "    *   **Las claves deben ser inmutables:** Las claves suelen ser cadenas de texto, números o tuplas (siempre que los elementos de la tupla sean inmutables).\n",
        "\n",
        "### Similitudes\n",
        "\n",
        "*   Las listas y tuplas son colecciones ordenadas que permiten acceder a los elementos por índice.\n",
        "*   Las listas y tuplas permiten elementos duplicados.\n",
        "*   Las listas y diccionarios son mutables.\n",
        "*   Todos pueden contener elementos de diferentes tipos de datos.\n",
        "\n",
        "### Diferencias\n",
        "\n",
        "*   **Mutabilidad:** Las listas y diccionarios son mutables, mientras que las tuplas son inmutables.\n",
        "*   **Acceso a elementos:** Las listas y tuplas usan índices numéricos, mientras que los diccionarios usan claves.\n",
        "*   **Orden:** Las listas y tuplas están ordenadas, mientras que los diccionarios (en versiones antiguas) no lo están (aunque en versiones recientes mantienen el orden de inserción).\n",
        "*   **Estructura:** Las listas y tuplas almacenan elementos individuales, mientras que los diccionarios almacenan pares clave-valor."
      ]
    },
    {
      "cell_type": "markdown",
      "metadata": {
        "id": "931b9b7f"
      },
      "source": [
        "## Funciones en Python\n",
        "\n",
        "Una función en Python es un bloque de código organizado y reutilizable que realiza una tarea específica. Las funciones permiten modularizar el código, hacerlo más legible, fácil de mantener y depurar.\n",
        "\n",
        "### Uso de las funciones\n",
        "\n",
        "Las funciones se definen utilizando la palabra clave `def`, seguida del nombre de la función, paréntesis `()` para los parámetros (si los hay) y dos puntos `:`. El bloque de código dentro de la función debe estar indentado."
      ]
    },
    {
      "cell_type": "code",
      "metadata": {
        "id": "1c47c449"
      },
      "source": [
        "suma = mi_funcion(5, 3) # Llamada a la función\n",
        "print(suma) # Imprime 8"
      ],
      "execution_count": null,
      "outputs": []
    }
  ]
}